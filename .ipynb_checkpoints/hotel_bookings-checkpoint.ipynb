{
 "cells": [
  {
   "cell_type": "markdown",
   "metadata": {},
   "source": [
    "# Data Storytelling - Hotel Bookings\n",
    "\n",
    "This notebook analyzes hotel bookings from two hotels over the span of two years to identify and illustrate relevant trends. The dataset was acquired from [Kaggle](https://www.kaggle.com/mojtaba142/hotel-booking)."
   ]
  },
  {
   "cell_type": "code",
   "execution_count": 1,
   "metadata": {},
   "outputs": [],
   "source": [
    "import numpy as np\n",
    "from datetime import datetime\n",
    "import pandas as pd\n",
    "import matplotlib.pyplot as plt\n",
    "import seaborn as sns"
   ]
  },
  {
   "cell_type": "code",
   "execution_count": 2,
   "metadata": {},
   "outputs": [
    {
     "name": "stdout",
     "output_type": "stream",
     "text": [
      "<class 'pandas.core.frame.DataFrame'>\n",
      "RangeIndex: 119390 entries, 0 to 119389\n",
      "Data columns (total 36 columns):\n",
      " #   Column                          Non-Null Count   Dtype  \n",
      "---  ------                          --------------   -----  \n",
      " 0   hotel                           119390 non-null  object \n",
      " 1   is_canceled                     119390 non-null  int64  \n",
      " 2   lead_time                       119390 non-null  int64  \n",
      " 3   arrival_date_year               119390 non-null  int64  \n",
      " 4   arrival_date_month              119390 non-null  object \n",
      " 5   arrival_date_week_number        119390 non-null  int64  \n",
      " 6   arrival_date_day_of_month       119390 non-null  int64  \n",
      " 7   stays_in_weekend_nights         119390 non-null  int64  \n",
      " 8   stays_in_week_nights            119390 non-null  int64  \n",
      " 9   adults                          119390 non-null  int64  \n",
      " 10  children                        119386 non-null  float64\n",
      " 11  babies                          119390 non-null  int64  \n",
      " 12  meal                            119390 non-null  object \n",
      " 13  country                         118902 non-null  object \n",
      " 14  market_segment                  119390 non-null  object \n",
      " 15  distribution_channel            119390 non-null  object \n",
      " 16  is_repeated_guest               119390 non-null  int64  \n",
      " 17  previous_cancellations          119390 non-null  int64  \n",
      " 18  previous_bookings_not_canceled  119390 non-null  int64  \n",
      " 19  reserved_room_type              119390 non-null  object \n",
      " 20  assigned_room_type              119390 non-null  object \n",
      " 21  booking_changes                 119390 non-null  int64  \n",
      " 22  deposit_type                    119390 non-null  object \n",
      " 23  agent                           103050 non-null  float64\n",
      " 24  company                         6797 non-null    float64\n",
      " 25  days_in_waiting_list            119390 non-null  int64  \n",
      " 26  customer_type                   119390 non-null  object \n",
      " 27  adr                             119390 non-null  float64\n",
      " 28  required_car_parking_spaces     119390 non-null  int64  \n",
      " 29  total_of_special_requests       119390 non-null  int64  \n",
      " 30  reservation_status              119390 non-null  object \n",
      " 31  reservation_status_date         119390 non-null  object \n",
      " 32  name                            119390 non-null  object \n",
      " 33  email                           119390 non-null  object \n",
      " 34  phone-number                    119390 non-null  object \n",
      " 35  credit_card                     119390 non-null  object \n",
      "dtypes: float64(4), int64(16), object(16)\n",
      "memory usage: 32.8+ MB\n"
     ]
    }
   ],
   "source": [
    "bookings = pd.read_csv('hotel_booking.csv')\n",
    "bookings.info()"
   ]
  },
  {
   "cell_type": "markdown",
   "metadata": {},
   "source": [
    "## Data Wrangling"
   ]
  },
  {
   "cell_type": "code",
   "execution_count": 3,
   "metadata": {},
   "outputs": [],
   "source": [
    "# Fill null values in the children column with 0\n",
    "\n",
    "bookings['children'].fillna(value=0, inplace=True)"
   ]
  },
  {
   "cell_type": "code",
   "execution_count": 4,
   "metadata": {},
   "outputs": [],
   "source": [
    "# Calculate total number of guests\n",
    "\n",
    "bookings['total_guests'] = pd.Series(dtype='int')\n",
    "\n",
    "for i in np.arange(len(bookings)):\n",
    "    bookings.loc[i, 'total_guests'] = bookings['adults'][i] + bookings['children'][i] + bookings['babies'][i]"
   ]
  },
  {
   "cell_type": "code",
   "execution_count": 5,
   "metadata": {},
   "outputs": [
    {
     "data": {
      "text/plain": [
       "0        2015-07-01\n",
       "1        2015-07-01\n",
       "2        2015-07-01\n",
       "3        2015-07-01\n",
       "4        2015-07-01\n",
       "            ...    \n",
       "119385   2017-08-30\n",
       "119386   2017-08-31\n",
       "119387   2017-08-31\n",
       "119388   2017-08-31\n",
       "119389   2017-08-29\n",
       "Name: arrival_date, Length: 119390, dtype: datetime64[ns]"
      ]
     },
     "execution_count": 5,
     "metadata": {},
     "output_type": "execute_result"
    }
   ],
   "source": [
    "# Convert arrival dates into datetime objects\n",
    "\n",
    "bookings['arrival_date'] = pd.Series(dtype='datetime64[ns]')\n",
    "\n",
    "for i in np.arange(len(bookings)):\n",
    "    day = str(bookings['arrival_date_day_of_month'][i])\n",
    "    month = str(bookings['arrival_date_month'][i])\n",
    "    year = str(bookings['arrival_date_year'][i])\n",
    "    date_string = ' '.join([day, month, year])\n",
    "    bookings.loc[i, 'arrival_date'] = datetime.strptime(date_string, \"%d %B %Y\")\n",
    "\n",
    "bookings['arrival_date']"
   ]
  },
  {
   "cell_type": "code",
   "execution_count": 6,
   "metadata": {},
   "outputs": [
    {
     "data": {
      "text/plain": [
       "0        2015-07-01\n",
       "1        2015-07-01\n",
       "2        2015-07-01\n",
       "3        2015-07-01\n",
       "4        2015-07-01\n",
       "            ...    \n",
       "109147   2017-06-29\n",
       "109148   2017-06-29\n",
       "109149   2017-06-29\n",
       "109150   2017-06-30\n",
       "109151   2017-06-30\n",
       "Name: arrival_date, Length: 109152, dtype: datetime64[ns]"
      ]
     },
     "execution_count": 6,
     "metadata": {},
     "output_type": "execute_result"
    }
   ],
   "source": [
    "# Drop last couple months from the dataset so that there is an equal representation of each month across the two years\n",
    "\n",
    "bookings = bookings[bookings['arrival_date'] < '2017-07-01'].reset_index()\n",
    "bookings['arrival_date']"
   ]
  },
  {
   "cell_type": "code",
   "execution_count": 7,
   "metadata": {},
   "outputs": [
    {
     "data": {
      "text/plain": [
       "0        2015-07-01\n",
       "1        2015-07-01\n",
       "2        2015-07-02\n",
       "3        2015-07-02\n",
       "4        2015-07-03\n",
       "            ...    \n",
       "109147   2017-07-06\n",
       "109148   2017-07-06\n",
       "109149   2017-07-06\n",
       "109150   2017-07-07\n",
       "109151   2017-07-07\n",
       "Name: reservation_status_date, Length: 109152, dtype: datetime64[ns]"
      ]
     },
     "execution_count": 7,
     "metadata": {},
     "output_type": "execute_result"
    }
   ],
   "source": [
    "# Convert reservation status dates into datetime objects\n",
    "\n",
    "bookings['reservation_status_date'] = pd.to_datetime(bookings.reservation_status_date)\n",
    "bookings['reservation_status_date']"
   ]
  },
  {
   "cell_type": "code",
   "execution_count": 8,
   "metadata": {},
   "outputs": [],
   "source": [
    "# Calculate length of stay\n",
    "\n",
    "bookings['length_of_stay'] = pd.Series(dtype='int')\n",
    "\n",
    "for i in np.arange(len(bookings)-1):\n",
    "    bookings.loc[i, 'length_of_stay'] = abs(bookings['reservation_status_date'][i] - bookings['arrival_date'][i]).days"
   ]
  },
  {
   "cell_type": "code",
   "execution_count": 27,
   "metadata": {},
   "outputs": [
    {
     "data": {
      "text/html": [
       "<div>\n",
       "<style scoped>\n",
       "    .dataframe tbody tr th:only-of-type {\n",
       "        vertical-align: middle;\n",
       "    }\n",
       "\n",
       "    .dataframe tbody tr th {\n",
       "        vertical-align: top;\n",
       "    }\n",
       "\n",
       "    .dataframe thead th {\n",
       "        text-align: right;\n",
       "    }\n",
       "</style>\n",
       "<table border=\"1\" class=\"dataframe\">\n",
       "  <thead>\n",
       "    <tr style=\"text-align: right;\">\n",
       "      <th></th>\n",
       "      <th>hotel</th>\n",
       "      <th>total_guests</th>\n",
       "      <th>lead_time</th>\n",
       "      <th>arrival_date</th>\n",
       "      <th>arrival_date_month</th>\n",
       "      <th>arrival_date_year</th>\n",
       "      <th>reservation_status</th>\n",
       "      <th>reservation_status_date</th>\n",
       "      <th>length_of_stay</th>\n",
       "    </tr>\n",
       "  </thead>\n",
       "  <tbody>\n",
       "    <tr>\n",
       "      <th>0</th>\n",
       "      <td>Resort Hotel</td>\n",
       "      <td>2.0</td>\n",
       "      <td>342</td>\n",
       "      <td>2015-07-01</td>\n",
       "      <td>July</td>\n",
       "      <td>2015</td>\n",
       "      <td>Check-Out</td>\n",
       "      <td>2015-07-01</td>\n",
       "      <td>0.0</td>\n",
       "    </tr>\n",
       "    <tr>\n",
       "      <th>1</th>\n",
       "      <td>Resort Hotel</td>\n",
       "      <td>2.0</td>\n",
       "      <td>737</td>\n",
       "      <td>2015-07-01</td>\n",
       "      <td>July</td>\n",
       "      <td>2015</td>\n",
       "      <td>Check-Out</td>\n",
       "      <td>2015-07-01</td>\n",
       "      <td>0.0</td>\n",
       "    </tr>\n",
       "    <tr>\n",
       "      <th>2</th>\n",
       "      <td>Resort Hotel</td>\n",
       "      <td>1.0</td>\n",
       "      <td>7</td>\n",
       "      <td>2015-07-01</td>\n",
       "      <td>July</td>\n",
       "      <td>2015</td>\n",
       "      <td>Check-Out</td>\n",
       "      <td>2015-07-02</td>\n",
       "      <td>1.0</td>\n",
       "    </tr>\n",
       "    <tr>\n",
       "      <th>3</th>\n",
       "      <td>Resort Hotel</td>\n",
       "      <td>1.0</td>\n",
       "      <td>13</td>\n",
       "      <td>2015-07-01</td>\n",
       "      <td>July</td>\n",
       "      <td>2015</td>\n",
       "      <td>Check-Out</td>\n",
       "      <td>2015-07-02</td>\n",
       "      <td>1.0</td>\n",
       "    </tr>\n",
       "    <tr>\n",
       "      <th>4</th>\n",
       "      <td>Resort Hotel</td>\n",
       "      <td>2.0</td>\n",
       "      <td>14</td>\n",
       "      <td>2015-07-01</td>\n",
       "      <td>July</td>\n",
       "      <td>2015</td>\n",
       "      <td>Check-Out</td>\n",
       "      <td>2015-07-03</td>\n",
       "      <td>2.0</td>\n",
       "    </tr>\n",
       "  </tbody>\n",
       "</table>\n",
       "</div>"
      ],
      "text/plain": [
       "          hotel  total_guests  lead_time arrival_date arrival_date_month  \\\n",
       "0  Resort Hotel           2.0        342   2015-07-01               July   \n",
       "1  Resort Hotel           2.0        737   2015-07-01               July   \n",
       "2  Resort Hotel           1.0          7   2015-07-01               July   \n",
       "3  Resort Hotel           1.0         13   2015-07-01               July   \n",
       "4  Resort Hotel           2.0         14   2015-07-01               July   \n",
       "\n",
       "   arrival_date_year reservation_status reservation_status_date  \\\n",
       "0               2015          Check-Out              2015-07-01   \n",
       "1               2015          Check-Out              2015-07-01   \n",
       "2               2015          Check-Out              2015-07-02   \n",
       "3               2015          Check-Out              2015-07-02   \n",
       "4               2015          Check-Out              2015-07-03   \n",
       "\n",
       "   length_of_stay  \n",
       "0             0.0  \n",
       "1             0.0  \n",
       "2             1.0  \n",
       "3             1.0  \n",
       "4             2.0  "
      ]
     },
     "execution_count": 27,
     "metadata": {},
     "output_type": "execute_result"
    }
   ],
   "source": [
    "# Select necessary columns\n",
    "\n",
    "df = bookings[['hotel', 'total_guests', 'lead_time', 'arrival_date', 'arrival_date_month',\n",
    "               'arrival_date_year', 'reservation_status', 'reservation_status_date', 'length_of_stay']]\n",
    "df.head()"
   ]
  },
  {
   "cell_type": "markdown",
   "metadata": {},
   "source": [
    "## Data Exploration"
   ]
  },
  {
   "cell_type": "markdown",
   "metadata": {},
   "source": [
    "To look at the booking trends over time, the total number of bookings, the average length of stay, and the average time booked in advance will be calculated for each month of each year."
   ]
  },
  {
   "cell_type": "code",
   "execution_count": 85,
   "metadata": {},
   "outputs": [
    {
     "data": {
      "text/html": [
       "<div>\n",
       "<style scoped>\n",
       "    .dataframe tbody tr th:only-of-type {\n",
       "        vertical-align: middle;\n",
       "    }\n",
       "\n",
       "    .dataframe tbody tr th {\n",
       "        vertical-align: top;\n",
       "    }\n",
       "\n",
       "    .dataframe thead th {\n",
       "        text-align: right;\n",
       "    }\n",
       "</style>\n",
       "<table border=\"1\" class=\"dataframe\">\n",
       "  <thead>\n",
       "    <tr style=\"text-align: right;\">\n",
       "      <th></th>\n",
       "      <th>arrival_date_year</th>\n",
       "      <th>arrival_date_month</th>\n",
       "      <th>bookings</th>\n",
       "      <th>avg_lead_time</th>\n",
       "      <th>avg_stay</th>\n",
       "      <th>arrival_date_month_year</th>\n",
       "    </tr>\n",
       "    <tr>\n",
       "      <th>arrival_date</th>\n",
       "      <th></th>\n",
       "      <th></th>\n",
       "      <th></th>\n",
       "      <th></th>\n",
       "      <th></th>\n",
       "      <th></th>\n",
       "    </tr>\n",
       "  </thead>\n",
       "  <tbody>\n",
       "    <tr>\n",
       "      <th>2015-08-01</th>\n",
       "      <td>2015</td>\n",
       "      <td>August</td>\n",
       "      <td>3889</td>\n",
       "      <td>99.392389</td>\n",
       "      <td>31.263564</td>\n",
       "      <td>August 2015</td>\n",
       "    </tr>\n",
       "    <tr>\n",
       "      <th>2015-12-01</th>\n",
       "      <td>2015</td>\n",
       "      <td>December</td>\n",
       "      <td>2920</td>\n",
       "      <td>52.386301</td>\n",
       "      <td>13.301370</td>\n",
       "      <td>December 2015</td>\n",
       "    </tr>\n",
       "    <tr>\n",
       "      <th>2015-07-01</th>\n",
       "      <td>2015</td>\n",
       "      <td>July</td>\n",
       "      <td>2776</td>\n",
       "      <td>125.967939</td>\n",
       "      <td>37.742795</td>\n",
       "      <td>July 2015</td>\n",
       "    </tr>\n",
       "    <tr>\n",
       "      <th>2015-11-01</th>\n",
       "      <td>2015</td>\n",
       "      <td>November</td>\n",
       "      <td>2340</td>\n",
       "      <td>48.091880</td>\n",
       "      <td>8.017094</td>\n",
       "      <td>November 2015</td>\n",
       "    </tr>\n",
       "    <tr>\n",
       "      <th>2015-10-01</th>\n",
       "      <td>2015</td>\n",
       "      <td>October</td>\n",
       "      <td>4957</td>\n",
       "      <td>102.393988</td>\n",
       "      <td>31.022393</td>\n",
       "      <td>October 2015</td>\n",
       "    </tr>\n",
       "    <tr>\n",
       "      <th>2015-09-01</th>\n",
       "      <td>2015</td>\n",
       "      <td>September</td>\n",
       "      <td>5114</td>\n",
       "      <td>123.138248</td>\n",
       "      <td>36.165233</td>\n",
       "      <td>September 2015</td>\n",
       "    </tr>\n",
       "    <tr>\n",
       "      <th>2016-04-01</th>\n",
       "      <td>2016</td>\n",
       "      <td>April</td>\n",
       "      <td>5428</td>\n",
       "      <td>85.847273</td>\n",
       "      <td>28.720523</td>\n",
       "      <td>April 2016</td>\n",
       "    </tr>\n",
       "    <tr>\n",
       "      <th>2016-08-01</th>\n",
       "      <td>2016</td>\n",
       "      <td>August</td>\n",
       "      <td>5063</td>\n",
       "      <td>121.634011</td>\n",
       "      <td>38.081375</td>\n",
       "      <td>August 2016</td>\n",
       "    </tr>\n",
       "    <tr>\n",
       "      <th>2016-12-01</th>\n",
       "      <td>2016</td>\n",
       "      <td>December</td>\n",
       "      <td>3860</td>\n",
       "      <td>89.579793</td>\n",
       "      <td>38.507513</td>\n",
       "      <td>December 2016</td>\n",
       "    </tr>\n",
       "    <tr>\n",
       "      <th>2016-02-01</th>\n",
       "      <td>2016</td>\n",
       "      <td>February</td>\n",
       "      <td>3891</td>\n",
       "      <td>38.841172</td>\n",
       "      <td>12.449242</td>\n",
       "      <td>February 2016</td>\n",
       "    </tr>\n",
       "    <tr>\n",
       "      <th>2016-01-01</th>\n",
       "      <td>2016</td>\n",
       "      <td>January</td>\n",
       "      <td>2248</td>\n",
       "      <td>32.523132</td>\n",
       "      <td>10.773577</td>\n",
       "      <td>January 2016</td>\n",
       "    </tr>\n",
       "    <tr>\n",
       "      <th>2016-07-01</th>\n",
       "      <td>2016</td>\n",
       "      <td>July</td>\n",
       "      <td>4572</td>\n",
       "      <td>123.259405</td>\n",
       "      <td>33.572397</td>\n",
       "      <td>July 2016</td>\n",
       "    </tr>\n",
       "    <tr>\n",
       "      <th>2016-06-01</th>\n",
       "      <td>2016</td>\n",
       "      <td>June</td>\n",
       "      <td>5292</td>\n",
       "      <td>119.823507</td>\n",
       "      <td>40.016062</td>\n",
       "      <td>June 2016</td>\n",
       "    </tr>\n",
       "    <tr>\n",
       "      <th>2016-03-01</th>\n",
       "      <td>2016</td>\n",
       "      <td>March</td>\n",
       "      <td>4824</td>\n",
       "      <td>57.326078</td>\n",
       "      <td>16.994610</td>\n",
       "      <td>March 2016</td>\n",
       "    </tr>\n",
       "    <tr>\n",
       "      <th>2016-05-01</th>\n",
       "      <td>2016</td>\n",
       "      <td>May</td>\n",
       "      <td>5478</td>\n",
       "      <td>114.674334</td>\n",
       "      <td>29.046185</td>\n",
       "      <td>May 2016</td>\n",
       "    </tr>\n",
       "    <tr>\n",
       "      <th>2016-11-01</th>\n",
       "      <td>2016</td>\n",
       "      <td>November</td>\n",
       "      <td>4454</td>\n",
       "      <td>91.548047</td>\n",
       "      <td>42.309609</td>\n",
       "      <td>November 2016</td>\n",
       "    </tr>\n",
       "    <tr>\n",
       "      <th>2016-10-01</th>\n",
       "      <td>2016</td>\n",
       "      <td>October</td>\n",
       "      <td>6203</td>\n",
       "      <td>139.457198</td>\n",
       "      <td>41.821216</td>\n",
       "      <td>October 2016</td>\n",
       "    </tr>\n",
       "    <tr>\n",
       "      <th>2016-09-01</th>\n",
       "      <td>2016</td>\n",
       "      <td>September</td>\n",
       "      <td>5394</td>\n",
       "      <td>149.509455</td>\n",
       "      <td>49.243048</td>\n",
       "      <td>September 2016</td>\n",
       "    </tr>\n",
       "    <tr>\n",
       "      <th>2017-04-01</th>\n",
       "      <td>2017</td>\n",
       "      <td>April</td>\n",
       "      <td>5661</td>\n",
       "      <td>103.429076</td>\n",
       "      <td>41.437202</td>\n",
       "      <td>April 2017</td>\n",
       "    </tr>\n",
       "    <tr>\n",
       "      <th>2017-02-01</th>\n",
       "      <td>2017</td>\n",
       "      <td>February</td>\n",
       "      <td>4177</td>\n",
       "      <td>56.260474</td>\n",
       "      <td>22.192961</td>\n",
       "      <td>February 2017</td>\n",
       "    </tr>\n",
       "    <tr>\n",
       "      <th>2017-01-01</th>\n",
       "      <td>2017</td>\n",
       "      <td>January</td>\n",
       "      <td>3681</td>\n",
       "      <td>53.118989</td>\n",
       "      <td>26.049986</td>\n",
       "      <td>January 2017</td>\n",
       "    </tr>\n",
       "    <tr>\n",
       "      <th>2017-06-01</th>\n",
       "      <td>2017</td>\n",
       "      <td>June</td>\n",
       "      <td>5647</td>\n",
       "      <td>136.141491</td>\n",
       "      <td>46.525682</td>\n",
       "      <td>June 2017</td>\n",
       "    </tr>\n",
       "    <tr>\n",
       "      <th>2017-03-01</th>\n",
       "      <td>2017</td>\n",
       "      <td>March</td>\n",
       "      <td>4970</td>\n",
       "      <td>82.536620</td>\n",
       "      <td>29.586117</td>\n",
       "      <td>March 2017</td>\n",
       "    </tr>\n",
       "    <tr>\n",
       "      <th>2017-05-01</th>\n",
       "      <td>2017</td>\n",
       "      <td>May</td>\n",
       "      <td>6313</td>\n",
       "      <td>120.224933</td>\n",
       "      <td>47.319024</td>\n",
       "      <td>May 2017</td>\n",
       "    </tr>\n",
       "  </tbody>\n",
       "</table>\n",
       "</div>"
      ],
      "text/plain": [
       "              arrival_date_year arrival_date_month  bookings  avg_lead_time  \\\n",
       "arrival_date                                                                  \n",
       "2015-08-01                 2015             August      3889      99.392389   \n",
       "2015-12-01                 2015           December      2920      52.386301   \n",
       "2015-07-01                 2015               July      2776     125.967939   \n",
       "2015-11-01                 2015           November      2340      48.091880   \n",
       "2015-10-01                 2015            October      4957     102.393988   \n",
       "2015-09-01                 2015          September      5114     123.138248   \n",
       "2016-04-01                 2016              April      5428      85.847273   \n",
       "2016-08-01                 2016             August      5063     121.634011   \n",
       "2016-12-01                 2016           December      3860      89.579793   \n",
       "2016-02-01                 2016           February      3891      38.841172   \n",
       "2016-01-01                 2016            January      2248      32.523132   \n",
       "2016-07-01                 2016               July      4572     123.259405   \n",
       "2016-06-01                 2016               June      5292     119.823507   \n",
       "2016-03-01                 2016              March      4824      57.326078   \n",
       "2016-05-01                 2016                May      5478     114.674334   \n",
       "2016-11-01                 2016           November      4454      91.548047   \n",
       "2016-10-01                 2016            October      6203     139.457198   \n",
       "2016-09-01                 2016          September      5394     149.509455   \n",
       "2017-04-01                 2017              April      5661     103.429076   \n",
       "2017-02-01                 2017           February      4177      56.260474   \n",
       "2017-01-01                 2017            January      3681      53.118989   \n",
       "2017-06-01                 2017               June      5647     136.141491   \n",
       "2017-03-01                 2017              March      4970      82.536620   \n",
       "2017-05-01                 2017                May      6313     120.224933   \n",
       "\n",
       "               avg_stay arrival_date_month_year  \n",
       "arrival_date                                     \n",
       "2015-08-01    31.263564             August 2015  \n",
       "2015-12-01    13.301370           December 2015  \n",
       "2015-07-01    37.742795               July 2015  \n",
       "2015-11-01     8.017094           November 2015  \n",
       "2015-10-01    31.022393            October 2015  \n",
       "2015-09-01    36.165233          September 2015  \n",
       "2016-04-01    28.720523              April 2016  \n",
       "2016-08-01    38.081375             August 2016  \n",
       "2016-12-01    38.507513           December 2016  \n",
       "2016-02-01    12.449242           February 2016  \n",
       "2016-01-01    10.773577            January 2016  \n",
       "2016-07-01    33.572397               July 2016  \n",
       "2016-06-01    40.016062               June 2016  \n",
       "2016-03-01    16.994610              March 2016  \n",
       "2016-05-01    29.046185                May 2016  \n",
       "2016-11-01    42.309609           November 2016  \n",
       "2016-10-01    41.821216            October 2016  \n",
       "2016-09-01    49.243048          September 2016  \n",
       "2017-04-01    41.437202              April 2017  \n",
       "2017-02-01    22.192961           February 2017  \n",
       "2017-01-01    26.049986            January 2017  \n",
       "2017-06-01    46.525682               June 2017  \n",
       "2017-03-01    29.586117              March 2017  \n",
       "2017-05-01    47.319024                May 2017  "
      ]
     },
     "execution_count": 85,
     "metadata": {},
     "output_type": "execute_result"
    }
   ],
   "source": [
    "# Creating a dataset of bookings per month\n",
    "\n",
    "num_bookings = df.groupby(['arrival_date_year', 'arrival_date_month']).count()[['hotel']]\n",
    "averages = df.groupby(['arrival_date_year', 'arrival_date_month']).mean().loc[:,['lead_time', 'length_of_stay']]\n",
    "bookings_per_month = num_bookings.join(averages).rename(columns={\"hotel\":\"bookings\",\n",
    "                                                                  \"lead_time\":\"avg_lead_time\",\n",
    "                                                                  \"length_of_stay\":\"avg_stay\"}).reset_index()\n",
    "for i in np.arange(len(bookings_per_month)):\n",
    "    month = str(bookings_per_month['arrival_date_month'][i])\n",
    "    year = str(bookings_per_month['arrival_date_year'][i])\n",
    "    date_string = ' '.join([month, year])\n",
    "    bookings_per_month.loc[i, 'arrival_date_month_year'] = date_string\n",
    "    bookings_per_month.loc[i, 'arrival_date'] = datetime.strptime(date_string, \"%B %Y\")\n",
    "\n",
    "bookings_per_month.set_index('arrival_date', inplace=True)\n",
    "bookings_per_month"
   ]
  },
  {
   "cell_type": "markdown",
   "metadata": {},
   "source": [
    "Taking a look at the number of bookings per month over time below, there appears to be a consistent seasonal trend where business drops off during the months of November, December, and January but picks up throughout the rest of the year. Also, it seems as though there was an overall increase in bookings in 2016 comparatively to the latter half of 2015."
   ]
  },
  {
   "cell_type": "code",
   "execution_count": 87,
   "metadata": {},
   "outputs": [
    {
     "data": {
      "image/png": "[encoded data removed]",
      "text/plain": [
       "<Figure size 900x360 with 1 Axes>"
      ]
     },
     "metadata": {
      "needs_background": "light"
     },
     "output_type": "display_data"
    }
   ],
   "source": [
    "# How many bookings are there over time?\n",
    "\n",
    "b = sns.relplot(x='arrival_date', y=\"bookings\", data=bookings_per_month, kind='line', aspect=5/2)\n",
    "b.set(xticks=bookings_per_month.index)\n",
    "b.set_xticklabels(labels=bookings_per_month['arrival_date_month_year'], rotation=60)\n",
    "plt.show(b)"
   ]
  },
  {
   "cell_type": "markdown",
   "metadata": {},
   "source": [
    "The plot below also illustrates the seasonal fluctuations in the amount of bookings. April, May and June seem to be the most popular months at these hotels, as well as September and October. As mentioned above, the winter season is the least popular time of year to book a reservation."
   ]
  },
  {
   "cell_type": "code",
   "execution_count": 88,
   "metadata": {},
   "outputs": [
    {
     "data": {
      "text/plain": [
       "<seaborn.axisgrid.FacetGrid at 0x1fcc8eac508>"
      ]
     },
     "execution_count": 88,
     "metadata": {},
     "output_type": "execute_result"
    },
    {
     "data": {
      "image/png": "[encoded data removed]",
      "text/plain": [
       "<Figure size 720x360 with 1 Axes>"
      ]
     },
     "metadata": {
      "needs_background": "light"
     },
     "output_type": "display_data"
    }
   ],
   "source": [
    "# How many bookings are there per month?\n",
    "\n",
    "sns.catplot(x='arrival_date_month', data=df, order=month_order, kind='count', aspect=2/1)"
   ]
  },
  {
   "cell_type": "markdown",
   "metadata": {},
   "source": [
    "#### Length of Stay"
   ]
  },
  {
   "cell_type": "markdown",
   "metadata": {},
   "source": [
    "More than half of the bookings are for less than one week. However, a small proportion of people stay for several months or so."
   ]
  },
  {
   "cell_type": "code",
   "execution_count": 103,
   "metadata": {},
   "outputs": [
    {
     "data": {
      "image/png": "[encoded data removed]",
      "text/plain": [
       "<Figure size 720x360 with 1 Axes>"
      ]
     },
     "metadata": {
      "needs_background": "light"
     },
     "output_type": "display_data"
    },
    {
     "data": {
      "text/plain": [
       "count    109151.000000\n",
       "mean         33.386208\n",
       "std          67.851126\n",
       "min           0.000000\n",
       "25%           2.000000\n",
       "50%           4.000000\n",
       "75%          25.000000\n",
       "max         526.000000\n",
       "Name: length_of_stay, dtype: float64"
      ]
     },
     "execution_count": 103,
     "metadata": {},
     "output_type": "execute_result"
    }
   ],
   "source": [
    "# How long do people stay?\n",
    "\n",
    "plt.figure(figsize=(10,5))\n",
    "sns.histplot(x='length_of_stay', data=df)\n",
    "plt.show()\n",
    "df.length_of_stay.describe()"
   ]
  },
  {
   "cell_type": "markdown",
   "metadata": {},
   "source": [
    "Most people stay for less than a week despite what month of the year it is. But, more people have longer stays in April, May, and June."
   ]
  },
  {
   "cell_type": "code",
   "execution_count": 90,
   "metadata": {
    "scrolled": true
   },
   "outputs": [
    {
     "data": {
      "text/html": [
       "<div>\n",
       "<style scoped>\n",
       "    .dataframe tbody tr th:only-of-type {\n",
       "        vertical-align: middle;\n",
       "    }\n",
       "\n",
       "    .dataframe tbody tr th {\n",
       "        vertical-align: top;\n",
       "    }\n",
       "\n",
       "    .dataframe thead tr th {\n",
       "        text-align: left;\n",
       "    }\n",
       "\n",
       "    .dataframe thead tr:last-of-type th {\n",
       "        text-align: right;\n",
       "    }\n",
       "</style>\n",
       "<table border=\"1\" class=\"dataframe\">\n",
       "  <thead>\n",
       "    <tr>\n",
       "      <th></th>\n",
       "      <th colspan=\"2\" halign=\"left\">length_of_stay</th>\n",
       "    </tr>\n",
       "    <tr>\n",
       "      <th></th>\n",
       "      <th>mean</th>\n",
       "      <th>median</th>\n",
       "    </tr>\n",
       "    <tr>\n",
       "      <th>arrival_date_month</th>\n",
       "      <th></th>\n",
       "      <th></th>\n",
       "    </tr>\n",
       "  </thead>\n",
       "  <tbody>\n",
       "    <tr>\n",
       "      <th>April</th>\n",
       "      <td>35.212463</td>\n",
       "      <td>5.0</td>\n",
       "    </tr>\n",
       "    <tr>\n",
       "      <th>August</th>\n",
       "      <td>35.119526</td>\n",
       "      <td>5.0</td>\n",
       "    </tr>\n",
       "    <tr>\n",
       "      <th>December</th>\n",
       "      <td>27.651770</td>\n",
       "      <td>4.0</td>\n",
       "    </tr>\n",
       "    <tr>\n",
       "      <th>February</th>\n",
       "      <td>17.493803</td>\n",
       "      <td>3.0</td>\n",
       "    </tr>\n",
       "    <tr>\n",
       "      <th>January</th>\n",
       "      <td>20.257885</td>\n",
       "      <td>3.0</td>\n",
       "    </tr>\n",
       "    <tr>\n",
       "      <th>July</th>\n",
       "      <td>35.147931</td>\n",
       "      <td>5.0</td>\n",
       "    </tr>\n",
       "    <tr>\n",
       "      <th>June</th>\n",
       "      <td>43.376211</td>\n",
       "      <td>5.0</td>\n",
       "    </tr>\n",
       "    <tr>\n",
       "      <th>March</th>\n",
       "      <td>23.384215</td>\n",
       "      <td>4.0</td>\n",
       "    </tr>\n",
       "    <tr>\n",
       "      <th>May</th>\n",
       "      <td>38.829616</td>\n",
       "      <td>4.0</td>\n",
       "    </tr>\n",
       "    <tr>\n",
       "      <th>November</th>\n",
       "      <td>30.498528</td>\n",
       "      <td>4.0</td>\n",
       "    </tr>\n",
       "    <tr>\n",
       "      <th>October</th>\n",
       "      <td>37.024642</td>\n",
       "      <td>4.0</td>\n",
       "    </tr>\n",
       "    <tr>\n",
       "      <th>September</th>\n",
       "      <td>42.878378</td>\n",
       "      <td>5.0</td>\n",
       "    </tr>\n",
       "  </tbody>\n",
       "</table>\n",
       "</div>"
      ],
      "text/plain": [
       "                   length_of_stay       \n",
       "                             mean median\n",
       "arrival_date_month                      \n",
       "April                   35.212463    5.0\n",
       "August                  35.119526    5.0\n",
       "December                27.651770    4.0\n",
       "February                17.493803    3.0\n",
       "January                 20.257885    3.0\n",
       "July                    35.147931    5.0\n",
       "June                    43.376211    5.0\n",
       "March                   23.384215    4.0\n",
       "May                     38.829616    4.0\n",
       "November                30.498528    4.0\n",
       "October                 37.024642    4.0\n",
       "September               42.878378    5.0"
      ]
     },
     "execution_count": 90,
     "metadata": {},
     "output_type": "execute_result"
    },
    {
     "data": {
      "image/png": "[encoded data removed]",
      "text/plain": [
       "<Figure size 720x360 with 1 Axes>"
      ]
     },
     "metadata": {
      "needs_background": "light"
     },
     "output_type": "display_data"
    }
   ],
   "source": [
    "# How long are the average lengths of stay per month?\n",
    "\n",
    "month_order=['January', 'February', 'March', 'April', 'May', 'June',\n",
    "             'July', 'August', 'September', 'October', 'November', 'December']\n",
    "\n",
    "sns.catplot(x='arrival_date_month', y='length_of_stay', data=df,\n",
    "            order=month_order, kind='box', showfliers=False, aspect=2/1)\n",
    "df.groupby('arrival_date_month').agg(['mean', 'median'])[['length_of_stay']]"
   ]
  },
  {
   "cell_type": "markdown",
   "metadata": {},
   "source": [
    "#### Time Booked in Advance"
   ]
  },
  {
   "cell_type": "markdown",
   "metadata": {},
   "source": [
    "A large proportion of people do not book farther out than a week in advance, although more than half of the guests will schedule their stay atleast two months or more prior to arrival."
   ]
  },
  {
   "cell_type": "code",
   "execution_count": 102,
   "metadata": {},
   "outputs": [
    {
     "data": {
      "image/png": "[encoded data removed]",
      "text/plain": [
       "<Figure size 720x360 with 1 Axes>"
      ]
     },
     "metadata": {
      "needs_background": "light"
     },
     "output_type": "display_data"
    },
    {
     "data": {
      "text/plain": [
       "count    109152.000000\n",
       "mean        100.103654\n",
       "std         104.911028\n",
       "min           0.000000\n",
       "25%          17.000000\n",
       "50%          65.000000\n",
       "75%         152.000000\n",
       "max         737.000000\n",
       "Name: lead_time, dtype: float64"
      ]
     },
     "execution_count": 102,
     "metadata": {},
     "output_type": "execute_result"
    }
   ],
   "source": [
    "# How long do people book in advance?\n",
    "\n",
    "plt.figure(figsize=(10,5))\n",
    "sns.histplot(x='lead_time', data=df)\n",
    "plt.show()\n",
    "df.lead_time.describe()"
   ]
  },
  {
   "cell_type": "markdown",
   "metadata": {},
   "source": [
    "More people book farther in advance for the summer and fall months than they do for winter and spring."
   ]
  },
  {
   "cell_type": "code",
   "execution_count": 100,
   "metadata": {},
   "outputs": [
    {
     "data": {
      "text/html": [
       "<div>\n",
       "<style scoped>\n",
       "    .dataframe tbody tr th:only-of-type {\n",
       "        vertical-align: middle;\n",
       "    }\n",
       "\n",
       "    .dataframe tbody tr th {\n",
       "        vertical-align: top;\n",
       "    }\n",
       "\n",
       "    .dataframe thead tr th {\n",
       "        text-align: left;\n",
       "    }\n",
       "\n",
       "    .dataframe thead tr:last-of-type th {\n",
       "        text-align: right;\n",
       "    }\n",
       "</style>\n",
       "<table border=\"1\" class=\"dataframe\">\n",
       "  <thead>\n",
       "    <tr>\n",
       "      <th></th>\n",
       "      <th colspan=\"2\" halign=\"left\">lead_time</th>\n",
       "    </tr>\n",
       "    <tr>\n",
       "      <th></th>\n",
       "      <th>mean</th>\n",
       "      <th>median</th>\n",
       "    </tr>\n",
       "    <tr>\n",
       "      <th>arrival_date_month</th>\n",
       "      <th></th>\n",
       "      <th></th>\n",
       "    </tr>\n",
       "  </thead>\n",
       "  <tbody>\n",
       "    <tr>\n",
       "      <th>January</th>\n",
       "      <td>45.310002</td>\n",
       "      <td>20</td>\n",
       "    </tr>\n",
       "    <tr>\n",
       "      <th>February</th>\n",
       "      <td>47.859569</td>\n",
       "      <td>24</td>\n",
       "    </tr>\n",
       "    <tr>\n",
       "      <th>March</th>\n",
       "      <td>70.119257</td>\n",
       "      <td>46</td>\n",
       "    </tr>\n",
       "    <tr>\n",
       "      <th>April</th>\n",
       "      <td>94.822888</td>\n",
       "      <td>80</td>\n",
       "    </tr>\n",
       "    <tr>\n",
       "      <th>May</th>\n",
       "      <td>117.646171</td>\n",
       "      <td>100</td>\n",
       "    </tr>\n",
       "    <tr>\n",
       "      <th>June</th>\n",
       "      <td>128.247280</td>\n",
       "      <td>118</td>\n",
       "    </tr>\n",
       "    <tr>\n",
       "      <th>July</th>\n",
       "      <td>124.282662</td>\n",
       "      <td>110</td>\n",
       "    </tr>\n",
       "    <tr>\n",
       "      <th>August</th>\n",
       "      <td>111.971626</td>\n",
       "      <td>86</td>\n",
       "    </tr>\n",
       "    <tr>\n",
       "      <th>September</th>\n",
       "      <td>136.675200</td>\n",
       "      <td>86</td>\n",
       "    </tr>\n",
       "    <tr>\n",
       "      <th>October</th>\n",
       "      <td>122.994624</td>\n",
       "      <td>74</td>\n",
       "    </tr>\n",
       "    <tr>\n",
       "      <th>November</th>\n",
       "      <td>76.580807</td>\n",
       "      <td>40</td>\n",
       "    </tr>\n",
       "    <tr>\n",
       "      <th>December</th>\n",
       "      <td>73.561357</td>\n",
       "      <td>37</td>\n",
       "    </tr>\n",
       "  </tbody>\n",
       "</table>\n",
       "</div>"
      ],
      "text/plain": [
       "                     lead_time       \n",
       "                          mean median\n",
       "arrival_date_month                   \n",
       "January              45.310002     20\n",
       "February             47.859569     24\n",
       "March                70.119257     46\n",
       "April                94.822888     80\n",
       "May                 117.646171    100\n",
       "June                128.247280    118\n",
       "July                124.282662    110\n",
       "August              111.971626     86\n",
       "September           136.675200     86\n",
       "October             122.994624     74\n",
       "November             76.580807     40\n",
       "December             73.561357     37"
      ]
     },
     "execution_count": 100,
     "metadata": {},
     "output_type": "execute_result"
    },
    {
     "data": {
      "image/png": "[encoded data removed]",
      "text/plain": [
       "<Figure size 720x360 with 1 Axes>"
      ]
     },
     "metadata": {
      "needs_background": "light"
     },
     "output_type": "display_data"
    }
   ],
   "source": [
    "# How long do people book in advance per month?\n",
    "\n",
    "sns.catplot(x='arrival_date_month', y='lead_time', data=df,\n",
    "            order=month_order, kind='box', showfliers=False, aspect=2/1)\n",
    "df.groupby('arrival_date_month').agg(['mean', 'median'])[['lead_time']].reindex(index=month_order)"
   ]
  },
  {
   "cell_type": "markdown",
   "metadata": {},
   "source": [
    "#### Feature Relationships"
   ]
  },
  {
   "cell_type": "markdown",
   "metadata": {},
   "source": [
    "The average length of stay and the average time booked in advance per month is highly correlated. The total number of bookings is also moderately correlated to the average length of stay and the average time booked in advance."
   ]
  },
  {
   "cell_type": "code",
   "execution_count": 114,
   "metadata": {},
   "outputs": [
    {
     "data": {
      "text/html": [
       "<div>\n",
       "<style scoped>\n",
       "    .dataframe tbody tr th:only-of-type {\n",
       "        vertical-align: middle;\n",
       "    }\n",
       "\n",
       "    .dataframe tbody tr th {\n",
       "        vertical-align: top;\n",
       "    }\n",
       "\n",
       "    .dataframe thead th {\n",
       "        text-align: right;\n",
       "    }\n",
       "</style>\n",
       "<table border=\"1\" class=\"dataframe\">\n",
       "  <thead>\n",
       "    <tr style=\"text-align: right;\">\n",
       "      <th></th>\n",
       "      <th>bookings</th>\n",
       "      <th>avg_stay</th>\n",
       "      <th>avg_lead_time</th>\n",
       "    </tr>\n",
       "  </thead>\n",
       "  <tbody>\n",
       "    <tr>\n",
       "      <th>bookings</th>\n",
       "      <td>1.000000</td>\n",
       "      <td>0.698581</td>\n",
       "      <td>0.670803</td>\n",
       "    </tr>\n",
       "    <tr>\n",
       "      <th>avg_stay</th>\n",
       "      <td>0.698581</td>\n",
       "      <td>1.000000</td>\n",
       "      <td>0.890386</td>\n",
       "    </tr>\n",
       "    <tr>\n",
       "      <th>avg_lead_time</th>\n",
       "      <td>0.670803</td>\n",
       "      <td>0.890386</td>\n",
       "      <td>1.000000</td>\n",
       "    </tr>\n",
       "  </tbody>\n",
       "</table>\n",
       "</div>"
      ],
      "text/plain": [
       "               bookings  avg_stay  avg_lead_time\n",
       "bookings       1.000000  0.698581       0.670803\n",
       "avg_stay       0.698581  1.000000       0.890386\n",
       "avg_lead_time  0.670803  0.890386       1.000000"
      ]
     },
     "execution_count": 114,
     "metadata": {},
     "output_type": "execute_result"
    }
   ],
   "source": [
    "bookings_per_month[['bookings', 'avg_stay', 'avg_lead_time']].reset_index(drop=True).corr()"
   ]
  },
  {
   "cell_type": "markdown",
   "metadata": {},
   "source": [
    "## Conclusion"
   ]
  },
  {
   "cell_type": "markdown",
   "metadata": {},
   "source": [
    "Certain times of the year seem to be more desirable for people to book a stay at these hotels. The total number of bookings per month show that the late spring and early summer months are the busiest for the hotels while the early winter months are the least busy. This might be explained by the fact that November, December, and January are times of the year where many people visit family for the holidays or simply because it is often colder than it is during other months of the year. People also tend to book longer stays and schedule farther out in advance during these busier months. It intuitively make sense that the average length of stay and average time booked in advance are highly correlated because if people are bookings longer stays at the hotels, there will be less flexibility in availability and people will have to adjust by planning ahead sooner. Furthermore, the fact that the total number of bookings per month is correlated to these two metrics suggests that more people decide to stay longer during busier times of the year and are therefore booking farther in advance. Based on the number of bookings, lengths of stay, and time booked in advance, it is clear that April, May, and June are highly desirable times of the year for people to book a stay at these hotels."
   ]
  }
 ],
 "metadata": {
  "kernelspec": {
   "display_name": "Python 3",
   "language": "python",
   "name": "python3"
  },
  "language_info": {
   "codemirror_mode": {
    "name": "ipython",
    "version": 3
   },
   "file_extension": ".py",
   "mimetype": "text/x-python",
   "name": "python",
   "nbconvert_exporter": "python",
   "pygments_lexer": "ipython3",
   "version": "3.7.6"
  }
 },
 "nbformat": 4,
 "nbformat_minor": 4
}
